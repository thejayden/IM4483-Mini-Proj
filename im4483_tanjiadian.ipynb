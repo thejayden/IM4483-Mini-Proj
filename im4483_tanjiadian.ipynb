{
  "nbformat": 4,
  "nbformat_minor": 0,
  "metadata": {
    "colab": {
      "name": "im4483_tanjiadian.ipynb",
      "provenance": [],
      "collapsed_sections": [],
      "authorship_tag": "ABX9TyPd0kGbwZyYRmEqOZdOUX+C",
      "include_colab_link": true
    },
    "kernelspec": {
      "name": "python3",
      "display_name": "Python 3"
    },
    "language_info": {
      "name": "python"
    }
  },
  "cells": [
    {
      "cell_type": "markdown",
      "metadata": {
        "id": "view-in-github",
        "colab_type": "text"
      },
      "source": [
        "<a href=\"https://colab.research.google.com/github/thejayden/IM4483-Mini-Proj/blob/master/im4483_tanjiadian.ipynb\" target=\"_parent\"><img src=\"https://colab.research.google.com/assets/colab-badge.svg\" alt=\"Open In Colab\"/></a>"
      ]
    },
    {
      "cell_type": "code",
      "metadata": {
        "id": "gAsfs5fNAQhY"
      },
      "source": [
        "import numpy as np \n",
        "import pandas as pd \n",
        "import tensorflow as tf\n",
        "from tensorflow import keras\n",
        "from tensorflow.keras.preprocessing.image import ImageDataGenerator, load_img\n",
        "from tensorflow.keras.utils import to_categorical\n",
        "from sklearn.model_selection import train_test_split\n",
        "import matplotlib.pyplot as plt\n",
        "import random\n",
        "import os"
      ],
      "execution_count": 13,
      "outputs": []
    },
    {
      "cell_type": "code",
      "metadata": {
        "colab": {
          "base_uri": "https://localhost:8080/"
        },
        "id": "oNo0r8EAtTF2",
        "outputId": "4825dace-ef9a-4f6a-ecf2-5f2a1b23f0b8"
      },
      "source": [
        "!git clone https://github.com/thejayden/IM4483-Mini-Proj.git"
      ],
      "execution_count": 9,
      "outputs": [
        {
          "output_type": "stream",
          "name": "stdout",
          "text": [
            "Cloning into 'IM4483-Mini-Proj'...\n",
            "remote: Enumerating objects: 25507, done.\u001b[K\n",
            "remote: Total 25507 (delta 0), reused 0 (delta 0), pack-reused 25507\u001b[K\n",
            "Receiving objects: 100% (25507/25507), 1.01 GiB | 30.48 MiB/s, done.\n",
            "Resolving deltas: 100% (1/1), done.\n",
            "Checking out files: 100% (25502/25502), done.\n"
          ]
        }
      ]
    },
    {
      "cell_type": "code",
      "metadata": {
        "colab": {
          "base_uri": "https://localhost:8080/"
        },
        "id": "_5YT1tH-ustO",
        "outputId": "fdc35eb6-5e60-46ff-dda7-a03dffec77fb"
      },
      "source": [
        "train_cat_dir = os.path.join(os.getcwd(), 'IM4483-Mini-Proj', 'train', 'cat')\n",
        "train_dog_dir = os.path.join(os.getcwd(), 'IM4483-Mini-Proj', 'train', 'dog')\n",
        "train_cat_images = os.listdir(train_cat_dir)\n",
        "train_dog_images = os.listdir(train_dog_dir)\n",
        "\n",
        "category_cat = []\n",
        "category_dog = []\n",
        "\n",
        "for image in train_cat_images:\n",
        "  category_cat.append(\"0\")\n",
        "df_train = pd.DataFrame({\n",
        "    'filename': train_cat_images,\n",
        "    'category': category_cat\n",
        "})\n",
        "\n",
        "for image in train_dog_images:\n",
        "  category_dog.append(\"1\")\n",
        "df_train2 = pd.DataFrame({\n",
        "    'filename': train_dog_images,\n",
        "    'category': category_dog\n",
        "})\n",
        "\n",
        "df_train = df_train.append(df_train2)\n",
        "df_train.shape"
      ],
      "execution_count": 106,
      "outputs": [
        {
          "output_type": "execute_result",
          "data": {
            "text/plain": [
              "(20000, 2)"
            ]
          },
          "metadata": {},
          "execution_count": 106
        }
      ]
    },
    {
      "cell_type": "code",
      "metadata": {
        "colab": {
          "base_uri": "https://localhost:8080/"
        },
        "id": "SRZb1gZCA_cV",
        "outputId": "1660e5a5-ae3c-467f-a613-c68ff341eaf3"
      },
      "source": [
        "df_train_sample = df_train.sample(n=20)\n",
        "print(df_train_sample)"
      ],
      "execution_count": 107,
      "outputs": [
        {
          "output_type": "stream",
          "name": "stdout",
          "text": [
            "           filename category\n",
            "7774   cat.4276.jpg        0\n",
            "188     cat.605.jpg        0\n",
            "9015  cat.10140.jpg        0\n",
            "5740   dog.5867.jpg        1\n",
            "193    dog.6418.jpg        1\n",
            "1355   cat.2768.jpg        0\n",
            "5807   cat.7899.jpg        0\n",
            "5147  cat.10967.jpg        0\n",
            "9479   cat.3781.jpg        0\n",
            "747    cat.5387.jpg        0\n",
            "3915   dog.7186.jpg        1\n",
            "4969  cat.10801.jpg        0\n",
            "9156   dog.9697.jpg        1\n",
            "3030  cat.10962.jpg        0\n",
            "7748   cat.2322.jpg        0\n",
            "4261   dog.5404.jpg        1\n",
            "7257  cat.10377.jpg        0\n",
            "6761   dog.8147.jpg        1\n",
            "2145   dog.1240.jpg        1\n",
            "7839   cat.5258.jpg        0\n"
          ]
        }
      ]
    },
    {
      "cell_type": "code",
      "metadata": {
        "colab": {
          "base_uri": "https://localhost:8080/"
        },
        "id": "Vp3mDOPiJ5Li",
        "outputId": "60a875c6-8206-48d1-e3f6-c740bdfd4a7a"
      },
      "source": [
        "val_cat_dir = os.path.join(os.getcwd(), 'IM4483-Mini-Proj', 'val', 'cat')\n",
        "val_dog_dir = os.path.join(os.getcwd(), 'IM4483-Mini-Proj', 'val', 'dog')\n",
        "val_cat_images = os.listdir(val_cat_dir)\n",
        "val_dog_images = os.listdir(val_dog_dir)\n",
        "\n",
        "category_cat = []\n",
        "category_dog = []\n",
        "\n",
        "for image in val_cat_images:\n",
        "  category_cat.append(\"0\")\n",
        "df_val = pd.DataFrame({\n",
        "    'filename': val_cat_images,\n",
        "    'category': category_cat\n",
        "})\n",
        "\n",
        "for image in val_dog_images:\n",
        "  category_dog.append(\"1\")\n",
        "df_val2 = pd.DataFrame({\n",
        "    'filename': val_dog_images,\n",
        "    'category': category_dog\n",
        "})\n",
        "\n",
        "df_val = df_val.append(df_val2)\n",
        "df_val.shape"
      ],
      "execution_count": 108,
      "outputs": [
        {
          "output_type": "execute_result",
          "data": {
            "text/plain": [
              "(5000, 2)"
            ]
          },
          "metadata": {},
          "execution_count": 108
        }
      ]
    },
    {
      "cell_type": "code",
      "metadata": {
        "colab": {
          "base_uri": "https://localhost:8080/"
        },
        "id": "ghRTfif0PGuV",
        "outputId": "f164803d-d76b-4bb9-89a8-4bd6677f1390"
      },
      "source": [
        "df_val_sample = df_val.sample(n=20)\n",
        "print(df_val_sample)"
      ],
      "execution_count": 109,
      "outputs": [
        {
          "output_type": "stream",
          "name": "stdout",
          "text": [
            "           filename category\n",
            "2133   cat.9247.jpg        0\n",
            "1201   cat.9441.jpg        0\n",
            "2476   cat.8554.jpg        0\n",
            "2287   cat.6748.jpg        0\n",
            "1750   cat.4152.jpg        0\n",
            "1      cat.1827.jpg        0\n",
            "2464   dog.5067.jpg        1\n",
            "556    dog.3777.jpg        1\n",
            "565    cat.7658.jpg        0\n",
            "108    dog.1504.jpg        1\n",
            "1998  cat.11732.jpg        0\n",
            "254    cat.9357.jpg        0\n",
            "337    dog.8133.jpg        1\n",
            "424   cat.11508.jpg        0\n",
            "903    dog.9657.jpg        1\n",
            "2073   dog.3026.jpg        1\n",
            "2345   cat.8751.jpg        0\n",
            "1926   cat.4755.jpg        0\n",
            "1420   dog.6087.jpg        1\n",
            "962   cat.12143.jpg        0\n"
          ]
        }
      ]
    },
    {
      "cell_type": "code",
      "metadata": {
        "colab": {
          "base_uri": "https://localhost:8080/",
          "height": 312
        },
        "id": "aP3I1nJX_mIV",
        "outputId": "b076d6ea-654c-4d6d-f432-3a824a1b24a7"
      },
      "source": [
        "plt1 = df_train['category'].value_counts().plot(kind='bar', color=['navy','orange'], title='Number of Train Images By Categories', rot=0)\n",
        "plt1.set_ylabel(\"Number of Images\")\n",
        "plt1.set_xlabel(\"Dog = 1, Cat = 0\")"
      ],
      "execution_count": 110,
      "outputs": [
        {
          "output_type": "execute_result",
          "data": {
            "text/plain": [
              "Text(0.5, 0, 'Dog = 1, Cat = 0')"
            ]
          },
          "metadata": {},
          "execution_count": 110
        },
        {
          "output_type": "display_data",
          "data": {
            "image/png": "[encoded data removed]",
            "text/plain": [
              "<Figure size 432x288 with 1 Axes>"
            ]
          },
          "metadata": {
            "needs_background": "light"
          }
        }
      ]
    },
    {
      "cell_type": "code",
      "metadata": {
        "colab": {
          "base_uri": "https://localhost:8080/",
          "height": 312
        },
        "id": "YU2gnwfGQT49",
        "outputId": "a86bd5a9-6e98-442d-bb19-480358a89bba"
      },
      "source": [
        "plt2 = df_val['category'].value_counts().plot(kind='bar', color=['navy','orange'], title='Number of Validation Images By Categories', rot=0)\n",
        "plt2.set_ylabel(\"Number of Images\")\n",
        "plt2.set_xlabel(\"Dog = 1, Cat = 0\")"
      ],
      "execution_count": 111,
      "outputs": [
        {
          "output_type": "execute_result",
          "data": {
            "text/plain": [
              "Text(0.5, 0, 'Dog = 1, Cat = 0')"
            ]
          },
          "metadata": {},
          "execution_count": 111
        },
        {
          "output_type": "display_data",
          "data": {
            "image/png": "[encoded data removed]",
            "text/plain": [
              "<Figure size 432x288 with 1 Axes>"
            ]
          },
          "metadata": {
            "needs_background": "light"
          }
        }
      ]
    },
    {
      "cell_type": "code",
      "metadata": {
        "colab": {
          "base_uri": "https://localhost:8080/"
        },
        "id": "xIYtmRu4x4QB",
        "outputId": "b61ffb58-3182-4cf5-a4e7-c160924a511a"
      },
      "source": [
        "from tensorflow.keras.models import Sequential\n",
        "from tensorflow.keras import layers\n",
        "from tensorflow.keras.layers import Conv2D, MaxPooling2D, Dropout, Flatten, Dense, Activation,GlobalMaxPooling2D\n",
        "from tensorflow.keras import applications\n",
        "from tensorflow.keras.preprocessing.image import ImageDataGenerator\n",
        "from tensorflow.keras import optimizers\n",
        "from tensorflow.keras.applications import VGG16\n",
        "from tensorflow.keras.models import Model\n",
        "\n",
        "image_size = 224\n",
        "input_shape = (image_size, image_size, 3)\n",
        "\n",
        "epochs = 5\n",
        "batch_size = 16\n",
        "\n",
        "pre_trained_model = VGG16(input_shape=input_shape, include_top=False, weights=\"imagenet\")\n",
        "    \n",
        "for layer in pre_trained_model.layers[:15]:\n",
        "    layer.trainable = False\n",
        "\n",
        "for layer in pre_trained_model.layers[15:]:\n",
        "    layer.trainable = True\n",
        "    \n",
        "last_layer = pre_trained_model.get_layer('block5_pool')\n",
        "last_output = last_layer.output\n",
        "    \n",
        "# Flatten the output layer to 1 dimension\n",
        "x = GlobalMaxPooling2D()(last_output)\n",
        "# Add a fully connected layer with 512 hidden units and ReLU activation\n",
        "x = Dense(512, activation='relu')(x)\n",
        "# Add a dropout rate of 0.5\n",
        "x = Dropout(0.5)(x)\n",
        "# Add a final sigmoid layer for classification\n",
        "x = layers.Dense(1, activation='sigmoid')(x)\n",
        "\n",
        "model = Model(pre_trained_model.input, x)\n",
        "\n",
        "model.compile(loss='binary_crossentropy',\n",
        "              optimizer=optimizers.SGD(learning_rate=1e-4, momentum=0.9),\n",
        "              metrics=['accuracy'])\n",
        "\n",
        "model.summary()"
      ],
      "execution_count": 112,
      "outputs": [
        {
          "output_type": "stream",
          "name": "stdout",
          "text": [
            "Model: \"model_2\"\n",
            "_________________________________________________________________\n",
            "Layer (type)                 Output Shape              Param #   \n",
            "=================================================================\n",
            "input_3 (InputLayer)         [(None, 224, 224, 3)]     0         \n",
            "_________________________________________________________________\n",
            "block1_conv1 (Conv2D)        (None, 224, 224, 64)      1792      \n",
            "_________________________________________________________________\n",
            "block1_conv2 (Conv2D)        (None, 224, 224, 64)      36928     \n",
            "_________________________________________________________________\n",
            "block1_pool (MaxPooling2D)   (None, 112, 112, 64)      0         \n",
            "_________________________________________________________________\n",
            "block2_conv1 (Conv2D)        (None, 112, 112, 128)     73856     \n",
            "_________________________________________________________________\n",
            "block2_conv2 (Conv2D)        (None, 112, 112, 128)     147584    \n",
            "_________________________________________________________________\n",
            "block2_pool (MaxPooling2D)   (None, 56, 56, 128)       0         \n",
            "_________________________________________________________________\n",
            "block3_conv1 (Conv2D)        (None, 56, 56, 256)       295168    \n",
            "_________________________________________________________________\n",
            "block3_conv2 (Conv2D)        (None, 56, 56, 256)       590080    \n",
            "_________________________________________________________________\n",
            "block3_conv3 (Conv2D)        (None, 56, 56, 256)       590080    \n",
            "_________________________________________________________________\n",
            "block3_pool (MaxPooling2D)   (None, 28, 28, 256)       0         \n",
            "_________________________________________________________________\n",
            "block4_conv1 (Conv2D)        (None, 28, 28, 512)       1180160   \n",
            "_________________________________________________________________\n",
            "block4_conv2 (Conv2D)        (None, 28, 28, 512)       2359808   \n",
            "_________________________________________________________________\n",
            "block4_conv3 (Conv2D)        (None, 28, 28, 512)       2359808   \n",
            "_________________________________________________________________\n",
            "block4_pool (MaxPooling2D)   (None, 14, 14, 512)       0         \n",
            "_________________________________________________________________\n",
            "block5_conv1 (Conv2D)        (None, 14, 14, 512)       2359808   \n",
            "_________________________________________________________________\n",
            "block5_conv2 (Conv2D)        (None, 14, 14, 512)       2359808   \n",
            "_________________________________________________________________\n",
            "block5_conv3 (Conv2D)        (None, 14, 14, 512)       2359808   \n",
            "_________________________________________________________________\n",
            "block5_pool (MaxPooling2D)   (None, 7, 7, 512)         0         \n",
            "_________________________________________________________________\n",
            "global_max_pooling2d_2 (Glob (None, 512)               0         \n",
            "_________________________________________________________________\n",
            "dense_4 (Dense)              (None, 512)               262656    \n",
            "_________________________________________________________________\n",
            "dropout_2 (Dropout)          (None, 512)               0         \n",
            "_________________________________________________________________\n",
            "dense_5 (Dense)              (None, 1)                 513       \n",
            "=================================================================\n",
            "Total params: 14,977,857\n",
            "Trainable params: 7,342,593\n",
            "Non-trainable params: 7,635,264\n",
            "_________________________________________________________________\n"
          ]
        }
      ]
    },
    {
      "cell_type": "code",
      "metadata": {
        "colab": {
          "base_uri": "https://localhost:8080/"
        },
        "id": "S7sw4bzdStNw",
        "outputId": "9ace4f7b-6368-4537-adf0-11d5a5f1c3fc"
      },
      "source": [
        "!pwd"
      ],
      "execution_count": 113,
      "outputs": [
        {
          "output_type": "stream",
          "name": "stdout",
          "text": [
            "/content\n"
          ]
        }
      ]
    },
    {
      "cell_type": "code",
      "metadata": {
        "colab": {
          "base_uri": "https://localhost:8080/"
        },
        "id": "-wHJt8KN4m7w",
        "outputId": "c508c227-9c82-440b-eda1-9b3b2c6d5e47"
      },
      "source": [
        "train_datagen = ImageDataGenerator(\n",
        "    rotation_range=15,\n",
        "    rescale=1./255,\n",
        "    shear_range=0.2,\n",
        "    zoom_range=0.2,\n",
        "    horizontal_flip=True,\n",
        "    fill_mode='nearest',\n",
        "    width_shift_range=0.1,\n",
        "    height_shift_range=0.1\n",
        ")\n",
        "\n",
        "train_generator = train_datagen.flow_from_dataframe(\n",
        "    df_train, \n",
        "    \"./IM4483-Mini-Proj/train/\", \n",
        "    x_col='filename',\n",
        "    y_col='category',\n",
        "    class_mode='binary',\n",
        "    target_size=(image_size, image_size),\n",
        "    batch_size=batch_size\n",
        ")\n",
        "\n",
        "# train_generator = train_datagen.flow_from_dataframe(\n",
        "#     df_train, \n",
        "#     \"./IM4483-Mini-Proj/train/dog/\", \n",
        "#     x_col='filename',\n",
        "#     y_col='category',\n",
        "#     class_mode='binary',\n",
        "#     target_size=(image_size, image_size),\n",
        "#     batch_size=batch_size\n",
        "# )"
      ],
      "execution_count": 118,
      "outputs": [
        {
          "output_type": "stream",
          "name": "stdout",
          "text": [
            "Found 0 validated image filenames belonging to 0 classes.\n"
          ]
        },
        {
          "output_type": "stream",
          "name": "stderr",
          "text": [
            "/usr/local/lib/python3.7/dist-packages/keras_preprocessing/image/dataframe_iterator.py:282: UserWarning: Found 20000 invalid image filename(s) in x_col=\"filename\". These filename(s) will be ignored.\n",
            "  .format(n_invalid, x_col)\n"
          ]
        }
      ]
    },
    {
      "cell_type": "code",
      "metadata": {
        "id": "_zpljJlo4pnm"
      },
      "source": [
        ""
      ],
      "execution_count": null,
      "outputs": []
    }
  ]
}