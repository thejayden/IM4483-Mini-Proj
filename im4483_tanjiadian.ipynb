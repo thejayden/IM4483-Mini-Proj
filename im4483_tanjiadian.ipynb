{
  "nbformat": 4,
  "nbformat_minor": 0,
  "metadata": {
    "colab": {
      "name": "im4483_tanjiadian.ipynb",
      "provenance": [],
      "collapsed_sections": [],
      "authorship_tag": "ABX9TyMikyRlteiYy2h/AzhOmEVg",
      "include_colab_link": true
    },
    "kernelspec": {
      "name": "python3",
      "display_name": "Python 3"
    },
    "language_info": {
      "name": "python"
    }
  },
  "cells": [
    {
      "cell_type": "markdown",
      "metadata": {
        "id": "view-in-github",
        "colab_type": "text"
      },
      "source": [
        "<a href=\"https://colab.research.google.com/github/thejayden/IM4483-Mini-Proj/blob/master/im4483_tanjiadian.ipynb\" target=\"_parent\"><img src=\"https://colab.research.google.com/assets/colab-badge.svg\" alt=\"Open In Colab\"/></a>"
      ]
    },
    {
      "cell_type": "code",
      "metadata": {
        "id": "gAsfs5fNAQhY"
      },
      "source": [
        "import numpy as np \n",
        "import pandas as pd \n",
        "import tensorflow as tf\n",
        "from tensorflow import keras\n",
        "from tensorflow.keras.preprocessing.image import ImageDataGenerator, load_img\n",
        "from tensorflow.keras.utils import to_categorical\n",
        "from sklearn.model_selection import train_test_split\n",
        "import matplotlib.pyplot as plt\n",
        "import random\n",
        "import os"
      ],
      "execution_count": 13,
      "outputs": []
    },
    {
      "cell_type": "code",
      "metadata": {
        "colab": {
          "base_uri": "https://localhost:8080/"
        },
        "id": "oNo0r8EAtTF2",
        "outputId": "4825dace-ef9a-4f6a-ecf2-5f2a1b23f0b8"
      },
      "source": [
        "!git clone https://github.com/thejayden/IM4483-Mini-Proj.git"
      ],
      "execution_count": 9,
      "outputs": [
        {
          "output_type": "stream",
          "name": "stdout",
          "text": [
            "Cloning into 'IM4483-Mini-Proj'...\n",
            "remote: Enumerating objects: 25507, done.\u001b[K\n",
            "remote: Total 25507 (delta 0), reused 0 (delta 0), pack-reused 25507\u001b[K\n",
            "Receiving objects: 100% (25507/25507), 1.01 GiB | 30.48 MiB/s, done.\n",
            "Resolving deltas: 100% (1/1), done.\n",
            "Checking out files: 100% (25502/25502), done.\n"
          ]
        }
      ]
    },
    {
      "cell_type": "code",
      "metadata": {
        "colab": {
          "base_uri": "https://localhost:8080/"
        },
        "id": "_5YT1tH-ustO",
        "outputId": "aa082161-4c5f-4f10-cb44-11044631741f"
      },
      "source": [
        "train_dir_cat = os.path.join(os.getcwd(), 'IM4483-Mini-Proj', 'train', 'cat')\n",
        "train_dir_dog = os.path.join(os.getcwd(), 'IM4483-Mini-Proj', 'train', 'dog')\n",
        "cat_train_images = os.listdir(train_dir_cat)\n",
        "dog_train_images = os.listdir(train_dir_dog)\n",
        "\n",
        "category_cat = []\n",
        "category_dog = []\n",
        "\n",
        "for image in cat_train_images:\n",
        "  category_cat.append(0)\n",
        "df = pd.DataFrame({\n",
        "    'filename': cat_train_images,\n",
        "    'category': category_cat\n",
        "})\n",
        "\n",
        "for image in dog_train_images:\n",
        "  category_dog.append(1)\n",
        "df2 = pd.DataFrame({\n",
        "    'filename': dog_train_images,\n",
        "    'category': category_dog\n",
        "})\n",
        "\n",
        "df = df.append(df2)\n",
        "print(df)"
      ],
      "execution_count": 60,
      "outputs": [
        {
          "output_type": "stream",
          "name": "stdout",
          "text": [
            "           filename  category\n",
            "0     cat.10981.jpg         0\n",
            "1      cat.2580.jpg         0\n",
            "2     cat.11800.jpg         0\n",
            "3     cat.11026.jpg         0\n",
            "4      cat.9559.jpg         0\n",
            "...             ...       ...\n",
            "9995   dog.4577.jpg         1\n",
            "9996   dog.3228.jpg         1\n",
            "9997   dog.7139.jpg         1\n",
            "9998    dog.909.jpg         1\n",
            "9999  dog.12254.jpg         1\n",
            "\n",
            "[20000 rows x 2 columns]\n"
          ]
        }
      ]
    },
    {
      "cell_type": "code",
      "metadata": {
        "colab": {
          "base_uri": "https://localhost:8080/"
        },
        "id": "SRZb1gZCA_cV",
        "outputId": "95537989-ca22-4cca-b2eb-7b82654f109f"
      },
      "source": [
        "df_sample = df.sample(frac=0.001)\n",
        "print(df_sample)"
      ],
      "execution_count": 74,
      "outputs": [
        {
          "output_type": "stream",
          "name": "stdout",
          "text": [
            "           filename  category\n",
            "8359   dog.9242.jpg         1\n",
            "3636   dog.7001.jpg         1\n",
            "3976  cat.12428.jpg         0\n",
            "7288   cat.7930.jpg         0\n",
            "6246    cat.554.jpg         0\n",
            "4310   dog.5018.jpg         1\n",
            "6315   dog.5383.jpg         1\n",
            "266    cat.2729.jpg         0\n",
            "5018   cat.1701.jpg         0\n",
            "3726  cat.11163.jpg         0\n",
            "142    dog.1065.jpg         1\n",
            "6561  cat.12252.jpg         0\n",
            "1479   dog.4142.jpg         1\n",
            "1734   cat.8543.jpg         0\n",
            "3380  dog.10723.jpg         1\n",
            "3024   cat.7020.jpg         0\n",
            "8592   cat.6570.jpg         0\n",
            "7936   cat.7131.jpg         0\n",
            "3536   dog.8409.jpg         1\n",
            "1716  cat.10909.jpg         0\n"
          ]
        }
      ]
    },
    {
      "cell_type": "code",
      "metadata": {
        "colab": {
          "base_uri": "https://localhost:8080/",
          "height": 312
        },
        "id": "aP3I1nJX_mIV",
        "outputId": "70a95a35-83e5-4897-daf9-ac96dc3740b1"
      },
      "source": [
        "barchart = df['category'].value_counts().plot(kind='bar', color=['yellow','orange'], title='Number of Images By Categories', rot=0)\n",
        "barchart.set_ylabel(\"Number of Images\")\n",
        "barchart.set_xlabel(\"Cat = 0, Dog = 1\")"
      ],
      "execution_count": 75,
      "outputs": [
        {
          "output_type": "execute_result",
          "data": {
            "text/plain": [
              "Text(0.5, 0, 'Cat = 0, Dog = 1')"
            ]
          },
          "metadata": {},
          "execution_count": 75
        },
        {
          "output_type": "display_data",
          "data": {
            "image/png": "[encoded data removed]",
            "text/plain": [
              "<Figure size 432x288 with 1 Axes>"
            ]
          },
          "metadata": {
            "needs_background": "light"
          }
        }
      ]
    },
    {
      "cell_type": "code",
      "metadata": {
        "colab": {
          "base_uri": "https://localhost:8080/"
        },
        "id": "xIYtmRu4x4QB",
        "outputId": "c815ebd8-02f1-48de-c9e0-9a1257f51b4c"
      },
      "source": [
        "from tensorflow.keras.models import Sequential\n",
        "from tensorflow.keras import layers\n",
        "from tensorflow.keras.layers import Conv2D, MaxPooling2D, Dropout, Flatten, Dense, Activation,GlobalMaxPooling2D\n",
        "from tensorflow.keras import applications\n",
        "from tensorflow.keras.preprocessing.image import ImageDataGenerator\n",
        "from tensorflow.keras import optimizers\n",
        "from tensorflow.keras.applications import VGG16\n",
        "from tensorflow.keras.models import Model\n",
        "\n",
        "image_size = 224\n",
        "input_shape = (image_size, image_size, 3)\n",
        "\n",
        "epochs = 5\n",
        "batch_size = 16\n",
        "\n",
        "pre_trained_model = VGG16(input_shape=input_shape, include_top=False, weights=\"imagenet\")\n",
        "    \n",
        "for layer in pre_trained_model.layers[:15]:\n",
        "    layer.trainable = False\n",
        "\n",
        "for layer in pre_trained_model.layers[15:]:\n",
        "    layer.trainable = True\n",
        "    \n",
        "last_layer = pre_trained_model.get_layer('block5_pool')\n",
        "last_output = last_layer.output\n",
        "    \n",
        "# Flatten the output layer to 1 dimension\n",
        "x = GlobalMaxPooling2D()(last_output)\n",
        "# Add a fully connected layer with 512 hidden units and ReLU activation\n",
        "x = Dense(512, activation='relu')(x)\n",
        "# Add a dropout rate of 0.5\n",
        "x = Dropout(0.5)(x)\n",
        "# Add a final sigmoid layer for classification\n",
        "x = layers.Dense(1, activation='sigmoid')(x)\n",
        "\n",
        "model = Model(pre_trained_model.input, x)\n",
        "\n",
        "model.compile(loss='binary_crossentropy',\n",
        "              optimizer=optimizers.SGD(learning_rate=1e-4, momentum=0.9),\n",
        "              metrics=['accuracy'])\n",
        "\n",
        "model.summary()"
      ],
      "execution_count": 78,
      "outputs": [
        {
          "output_type": "stream",
          "name": "stdout",
          "text": [
            "Model: \"model_1\"\n",
            "_________________________________________________________________\n",
            "Layer (type)                 Output Shape              Param #   \n",
            "=================================================================\n",
            "input_2 (InputLayer)         [(None, 224, 224, 3)]     0         \n",
            "_________________________________________________________________\n",
            "block1_conv1 (Conv2D)        (None, 224, 224, 64)      1792      \n",
            "_________________________________________________________________\n",
            "block1_conv2 (Conv2D)        (None, 224, 224, 64)      36928     \n",
            "_________________________________________________________________\n",
            "block1_pool (MaxPooling2D)   (None, 112, 112, 64)      0         \n",
            "_________________________________________________________________\n",
            "block2_conv1 (Conv2D)        (None, 112, 112, 128)     73856     \n",
            "_________________________________________________________________\n",
            "block2_conv2 (Conv2D)        (None, 112, 112, 128)     147584    \n",
            "_________________________________________________________________\n",
            "block2_pool (MaxPooling2D)   (None, 56, 56, 128)       0         \n",
            "_________________________________________________________________\n",
            "block3_conv1 (Conv2D)        (None, 56, 56, 256)       295168    \n",
            "_________________________________________________________________\n",
            "block3_conv2 (Conv2D)        (None, 56, 56, 256)       590080    \n",
            "_________________________________________________________________\n",
            "block3_conv3 (Conv2D)        (None, 56, 56, 256)       590080    \n",
            "_________________________________________________________________\n",
            "block3_pool (MaxPooling2D)   (None, 28, 28, 256)       0         \n",
            "_________________________________________________________________\n",
            "block4_conv1 (Conv2D)        (None, 28, 28, 512)       1180160   \n",
            "_________________________________________________________________\n",
            "block4_conv2 (Conv2D)        (None, 28, 28, 512)       2359808   \n",
            "_________________________________________________________________\n",
            "block4_conv3 (Conv2D)        (None, 28, 28, 512)       2359808   \n",
            "_________________________________________________________________\n",
            "block4_pool (MaxPooling2D)   (None, 14, 14, 512)       0         \n",
            "_________________________________________________________________\n",
            "block5_conv1 (Conv2D)        (None, 14, 14, 512)       2359808   \n",
            "_________________________________________________________________\n",
            "block5_conv2 (Conv2D)        (None, 14, 14, 512)       2359808   \n",
            "_________________________________________________________________\n",
            "block5_conv3 (Conv2D)        (None, 14, 14, 512)       2359808   \n",
            "_________________________________________________________________\n",
            "block5_pool (MaxPooling2D)   (None, 7, 7, 512)         0         \n",
            "_________________________________________________________________\n",
            "global_max_pooling2d_1 (Glob (None, 512)               0         \n",
            "_________________________________________________________________\n",
            "dense_2 (Dense)              (None, 512)               262656    \n",
            "_________________________________________________________________\n",
            "dropout_1 (Dropout)          (None, 512)               0         \n",
            "_________________________________________________________________\n",
            "dense_3 (Dense)              (None, 1)                 513       \n",
            "=================================================================\n",
            "Total params: 14,977,857\n",
            "Trainable params: 7,342,593\n",
            "Non-trainable params: 7,635,264\n",
            "_________________________________________________________________\n"
          ]
        }
      ]
    },
    {
      "cell_type": "code",
      "metadata": {
        "id": "-wHJt8KN4m7w"
      },
      "source": [
        ""
      ],
      "execution_count": 35,
      "outputs": []
    },
    {
      "cell_type": "code",
      "metadata": {
        "id": "_zpljJlo4pnm"
      },
      "source": [
        ""
      ],
      "execution_count": null,
      "outputs": []
    }
  ]
}